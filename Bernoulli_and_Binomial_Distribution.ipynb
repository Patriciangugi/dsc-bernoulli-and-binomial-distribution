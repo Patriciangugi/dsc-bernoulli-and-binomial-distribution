{
  "nbformat": 4,
  "nbformat_minor": 0,
  "metadata": {
    "colab": {
      "provenance": [],
      "authorship_tag": "ABX9TyNMUaIfBGqURn1w/xrLWetu",
      "include_colab_link": true
    },
    "kernelspec": {
      "name": "python3",
      "display_name": "Python 3"
    },
    "language_info": {
      "name": "python"
    }
  },
  "cells": [
    {
      "cell_type": "markdown",
      "metadata": {
        "id": "view-in-github",
        "colab_type": "text"
      },
      "source": [
        "<a href=\"https://colab.research.google.com/github/Patriciangugi/dsc-bernoulli-and-binomial-distribution/blob/master/Bernoulli_and_Binomial_Distribution.ipynb\" target=\"_parent\"><img src=\"https://colab.research.google.com/assets/colab-badge.svg\" alt=\"Open In Colab\"/></a>"
      ]
    },
    {
      "cell_type": "code",
      "execution_count": 1,
      "metadata": {
        "colab": {
          "base_uri": "https://localhost:8080/"
        },
        "id": "NPESzh7gj37e",
        "outputId": "bbc5b9fd-3dd5-4ce0-ab3f-344717deea4d"
      },
      "outputs": [
        {
          "output_type": "execute_result",
          "data": {
            "text/plain": [
              "78"
            ]
          },
          "metadata": {},
          "execution_count": 1
        }
      ],
      "source": [
        "import numpy as np\n",
        "np.random.seed(123) # set a seed to get the same results\n",
        "np.random.binomial(100, 0.8)"
      ]
    },
    {
      "cell_type": "code",
      "source": [
        "np.random.binomial(100, 0.8)"
      ],
      "metadata": {
        "colab": {
          "base_uri": "https://localhost:8080/"
        },
        "id": "FX05ZghbkK3I",
        "outputId": "b8c6018b-8ec8-4cc6-c1df-0c42595d8dd5"
      },
      "execution_count": 2,
      "outputs": [
        {
          "output_type": "execute_result",
          "data": {
            "text/plain": [
              "82"
            ]
          },
          "metadata": {},
          "execution_count": 2
        }
      ]
    },
    {
      "cell_type": "code",
      "source": [
        "np.random.binomial(100, 0.8)"
      ],
      "metadata": {
        "colab": {
          "base_uri": "https://localhost:8080/"
        },
        "id": "G3ksz02ZkK8R",
        "outputId": "5829fa02-f01a-4489-d743-004610e5955d"
      },
      "execution_count": 3,
      "outputs": [
        {
          "output_type": "execute_result",
          "data": {
            "text/plain": [
              "83"
            ]
          },
          "metadata": {},
          "execution_count": 3
        }
      ]
    },
    {
      "cell_type": "code",
      "source": [
        "iteration = []\n",
        "for loop in range(500):\n",
        "    iteration.append(np.random.binomial(100, 0.8))\n",
        "    np_it = np.array(iteration)"
      ],
      "metadata": {
        "id": "ia3bvy2WkK_x"
      },
      "execution_count": 4,
      "outputs": []
    },
    {
      "cell_type": "code",
      "source": [
        "sum(np_it)/500"
      ],
      "metadata": {
        "colab": {
          "base_uri": "https://localhost:8080/"
        },
        "id": "p0_yvGeVkLDS",
        "outputId": "bd9b01a8-8a6d-4fb0-aa6a-913d3385cfed"
      },
      "execution_count": 5,
      "outputs": [
        {
          "output_type": "execute_result",
          "data": {
            "text/plain": [
              "80.052"
            ]
          },
          "metadata": {},
          "execution_count": 5
        }
      ]
    },
    {
      "cell_type": "code",
      "source": [
        "n = 10000\n",
        "iteration = []\n",
        "for loop in range(n):\n",
        "    iteration.append(np.random.binomial(3, 0.8))\n",
        "    np_it = np.array(iteration)"
      ],
      "metadata": {
        "id": "l0cTB6mZkLGw"
      },
      "execution_count": 6,
      "outputs": []
    },
    {
      "cell_type": "code",
      "source": [
        "values, counts = np.unique(np_it, return_counts=True)\n",
        "print(values)\n",
        "print(counts)"
      ],
      "metadata": {
        "colab": {
          "base_uri": "https://localhost:8080/"
        },
        "id": "uFnI1gWGkLKH",
        "outputId": "4c363d27-7b6c-4cf4-b9aa-23b89a7ee249"
      },
      "execution_count": 7,
      "outputs": [
        {
          "output_type": "stream",
          "name": "stdout",
          "text": [
            "[0 1 2 3]\n",
            "[  58  929 3946 5067]\n"
          ]
        }
      ]
    },
    {
      "cell_type": "code",
      "source": [
        "import matplotlib.pyplot as plt\n",
        "plt.bar(values, counts/10000, align='center', alpha=0.9)\n",
        "plt.xticks(values)\n",
        "plt.ylabel('Fraction')\n",
        "plt.title('Number of penalty goals')\n",
        "plt.show()"
      ],
      "metadata": {
        "colab": {
          "base_uri": "https://localhost:8080/",
          "height": 452
        },
        "id": "u2Ksm55tkw_v",
        "outputId": "4086a053-5764-47ec-aa0a-832828cfd2ab"
      },
      "execution_count": 8,
      "outputs": [
        {
          "output_type": "display_data",
          "data": {
            "text/plain": [
              "<Figure size 640x480 with 1 Axes>"
            ],
            "image/png": "[encoded data removed]"
          },
          "metadata": {}
        }
      ]
    },
    {
      "cell_type": "code",
      "source": [
        "counts/10000"
      ],
      "metadata": {
        "colab": {
          "base_uri": "https://localhost:8080/"
        },
        "id": "snOP1Y74kxE0",
        "outputId": "18f45c94-be45-44eb-a214-f096697c5966"
      },
      "execution_count": 9,
      "outputs": [
        {
          "output_type": "execute_result",
          "data": {
            "text/plain": [
              "array([0.0058, 0.0929, 0.3946, 0.5067])"
            ]
          },
          "metadata": {},
          "execution_count": 9
        }
      ]
    }
  ]
}